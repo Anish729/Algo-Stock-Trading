{
 "cells": [
  {
   "cell_type": "markdown",
   "metadata": {},
   "source": [
    "# Imports"
   ]
  },
  {
   "cell_type": "code",
   "execution_count": 1,
   "metadata": {},
   "outputs": [],
   "source": [
    "import numpy as np\n",
    "import pandas as pd\n",
    "import requests\n",
    "import xlsxwriter\n",
    "import math"
   ]
  },
  {
   "cell_type": "code",
   "execution_count": 2,
   "metadata": {},
   "outputs": [],
   "source": [
    "stocks = pd.read_csv('sp_500_stocks.csv')"
   ]
  },
  {
   "cell_type": "code",
   "execution_count": 3,
   "metadata": {},
   "outputs": [
    {
     "data": {
      "text/html": [
       "<div>\n",
       "<style scoped>\n",
       "    .dataframe tbody tr th:only-of-type {\n",
       "        vertical-align: middle;\n",
       "    }\n",
       "\n",
       "    .dataframe tbody tr th {\n",
       "        vertical-align: top;\n",
       "    }\n",
       "\n",
       "    .dataframe thead th {\n",
       "        text-align: right;\n",
       "    }\n",
       "</style>\n",
       "<table border=\"1\" class=\"dataframe\">\n",
       "  <thead>\n",
       "    <tr style=\"text-align: right;\">\n",
       "      <th></th>\n",
       "      <th>Ticker</th>\n",
       "    </tr>\n",
       "  </thead>\n",
       "  <tbody>\n",
       "    <tr>\n",
       "      <th>0</th>\n",
       "      <td>A</td>\n",
       "    </tr>\n",
       "    <tr>\n",
       "      <th>1</th>\n",
       "      <td>AAL</td>\n",
       "    </tr>\n",
       "    <tr>\n",
       "      <th>2</th>\n",
       "      <td>AAP</td>\n",
       "    </tr>\n",
       "    <tr>\n",
       "      <th>3</th>\n",
       "      <td>AAPL</td>\n",
       "    </tr>\n",
       "    <tr>\n",
       "      <th>4</th>\n",
       "      <td>ABBV</td>\n",
       "    </tr>\n",
       "  </tbody>\n",
       "</table>\n",
       "</div>"
      ],
      "text/plain": [
       "  Ticker\n",
       "0      A\n",
       "1    AAL\n",
       "2    AAP\n",
       "3   AAPL\n",
       "4   ABBV"
      ]
     },
     "execution_count": 3,
     "metadata": {},
     "output_type": "execute_result"
    }
   ],
   "source": [
    "stocks.head()"
   ]
  },
  {
   "cell_type": "code",
   "execution_count": 4,
   "metadata": {},
   "outputs": [],
   "source": [
    "from secrets import IEX_CLOUD_API_TOKEN"
   ]
  },
  {
   "cell_type": "markdown",
   "metadata": {},
   "source": [
    "#### Sample of aapl stock get request"
   ]
  },
  {
   "cell_type": "code",
   "execution_count": 45,
   "metadata": {},
   "outputs": [],
   "source": [
    "ticker = 'AAPL'\n",
    "endpoint = 'https://sandbox.iexapis.com/stable'\n",
    "api_url = endpoint + f'/stock/{ticker}/quote/?token={IEX_CLOUD_API_TOKEN}'"
   ]
  },
  {
   "cell_type": "code",
   "execution_count": 6,
   "metadata": {},
   "outputs": [
    {
     "name": "stdout",
     "output_type": "stream",
     "text": [
      "{'symbol': 'AAPL', 'companyName': 'Apple Inc', 'primaryExchange': 'SDAAQN', 'calculationPrice': 'close', 'open': 0, 'openTime': None, 'openSource': 'ficlaofi', 'close': 0, 'closeTime': None, 'closeSource': 'lfciofia', 'high': 0, 'highTime': None, 'highSource': None, 'low': 0, 'lowTime': None, 'lowSource': None, 'latestPrice': 147.21, 'latestSource': 'Close', 'latestTime': 'August 11, 2021', 'latestUpdate': 1677978809559, 'latestVolume': None, 'iexRealtimePrice': 151.97, 'iexRealtimeSize': 61, 'iexLastUpdated': 1646724708474, 'delayedPrice': None, 'delayedPriceTime': None, 'oddLotDelayedPrice': None, 'oddLotDelayedPriceTime': None, 'extendedPrice': None, 'extendedChange': None, 'extendedChangePercent': None, 'extendedPriceTime': None, 'previousClose': 148.8, 'previousVolume': 70607822, 'change': 0.27, 'changePercent': 0.00181, 'volume': None, 'iexMarketPercent': 91.8101669217797, 'iexVolume': 768361, 'avgTotalVolume': 81602076, 'iexBidPrice': 0, 'iexBidSize': 0, 'iexAskPrice': 0, 'iexAskSize': 0, 'iexOpen': 152.29, 'iexOpenTime': 1680962982902, 'iexClose': 147.05, 'iexCloseTime': 1635614996901, 'marketCap': 2438885440272, 'peRatio': 30, 'week52High': 152.85, 'week52Low': 105.2, 'ytdChange': 0.1060892071262513, 'lastTradeTime': 1662593702292, 'currency': 'USD', 'isUSMarketOpen': False}\n"
     ]
    }
   ],
   "source": [
    "# get data\n",
    "data = requests.get(api_url).json()\n",
    "print(data)"
   ]
  },
  {
   "cell_type": "markdown",
   "metadata": {},
   "source": [
    "# Data Prep"
   ]
  },
  {
   "cell_type": "code",
   "execution_count": 7,
   "metadata": {},
   "outputs": [],
   "source": [
    "columns_ = ['ticker', 'stock_price', 'market_cap', 'no_of_shares_tobuy']\n",
    "\n",
    "df = pd.DataFrame(columns=columns_)"
   ]
  },
  {
   "cell_type": "code",
   "execution_count": 9,
   "metadata": {},
   "outputs": [],
   "source": [
    "for ticker in stocks['Ticker']:\n",
    "    api_url = endpoint + f'/stock/{ticker}/quote/?token={IEX_CLOUD_API_TOKEN}'\n",
    "    data = requests.get(api_url).json()\n",
    "    \n",
    "    df =\\\n",
    "    df.append(\n",
    "        pd.Series([\n",
    "            data['symbol'],\n",
    "            data['latestPrice'],\n",
    "            data['marketCap'],\n",
    "            np.nan\n",
    "        ],\n",
    "        index=columns_\n",
    "        ),\n",
    "        ignore_index=True\n",
    "    )"
   ]
  },
  {
   "cell_type": "code",
   "execution_count": 10,
   "metadata": {},
   "outputs": [
    {
     "data": {
      "text/html": [
       "<div>\n",
       "<style scoped>\n",
       "    .dataframe tbody tr th:only-of-type {\n",
       "        vertical-align: middle;\n",
       "    }\n",
       "\n",
       "    .dataframe tbody tr th {\n",
       "        vertical-align: top;\n",
       "    }\n",
       "\n",
       "    .dataframe thead th {\n",
       "        text-align: right;\n",
       "    }\n",
       "</style>\n",
       "<table border=\"1\" class=\"dataframe\">\n",
       "  <thead>\n",
       "    <tr style=\"text-align: right;\">\n",
       "      <th></th>\n",
       "      <th>ticker</th>\n",
       "      <th>stock_price</th>\n",
       "      <th>market_cap</th>\n",
       "      <th>no_of_shares_tobuy</th>\n",
       "    </tr>\n",
       "  </thead>\n",
       "  <tbody>\n",
       "    <tr>\n",
       "      <th>0</th>\n",
       "      <td>A</td>\n",
       "      <td>161.88</td>\n",
       "      <td>48354410684</td>\n",
       "      <td>NaN</td>\n",
       "    </tr>\n",
       "    <tr>\n",
       "      <th>1</th>\n",
       "      <td>AAL</td>\n",
       "      <td>21.98</td>\n",
       "      <td>14023210425</td>\n",
       "      <td>NaN</td>\n",
       "    </tr>\n",
       "    <tr>\n",
       "      <th>2</th>\n",
       "      <td>AAP</td>\n",
       "      <td>218.99</td>\n",
       "      <td>14030586113</td>\n",
       "      <td>NaN</td>\n",
       "    </tr>\n",
       "    <tr>\n",
       "      <th>3</th>\n",
       "      <td>AAPL</td>\n",
       "      <td>148.26</td>\n",
       "      <td>2467102408347</td>\n",
       "      <td>NaN</td>\n",
       "    </tr>\n",
       "    <tr>\n",
       "      <th>4</th>\n",
       "      <td>ABBV</td>\n",
       "      <td>116.10</td>\n",
       "      <td>203309257965</td>\n",
       "      <td>NaN</td>\n",
       "    </tr>\n",
       "    <tr>\n",
       "      <th>...</th>\n",
       "      <td>...</td>\n",
       "      <td>...</td>\n",
       "      <td>...</td>\n",
       "      <td>...</td>\n",
       "    </tr>\n",
       "    <tr>\n",
       "      <th>500</th>\n",
       "      <td>YUM</td>\n",
       "      <td>134.14</td>\n",
       "      <td>40450771591</td>\n",
       "      <td>NaN</td>\n",
       "    </tr>\n",
       "    <tr>\n",
       "      <th>501</th>\n",
       "      <td>ZBH</td>\n",
       "      <td>147.80</td>\n",
       "      <td>31185039578</td>\n",
       "      <td>NaN</td>\n",
       "    </tr>\n",
       "    <tr>\n",
       "      <th>502</th>\n",
       "      <td>ZBRA</td>\n",
       "      <td>591.74</td>\n",
       "      <td>31786500723</td>\n",
       "      <td>NaN</td>\n",
       "    </tr>\n",
       "    <tr>\n",
       "      <th>503</th>\n",
       "      <td>ZION</td>\n",
       "      <td>58.25</td>\n",
       "      <td>9201756358</td>\n",
       "      <td>NaN</td>\n",
       "    </tr>\n",
       "    <tr>\n",
       "      <th>504</th>\n",
       "      <td>ZTS</td>\n",
       "      <td>199.11</td>\n",
       "      <td>97620435866</td>\n",
       "      <td>NaN</td>\n",
       "    </tr>\n",
       "  </tbody>\n",
       "</table>\n",
       "<p>505 rows × 4 columns</p>\n",
       "</div>"
      ],
      "text/plain": [
       "    ticker  stock_price     market_cap  no_of_shares_tobuy\n",
       "0        A       161.88    48354410684                 NaN\n",
       "1      AAL        21.98    14023210425                 NaN\n",
       "2      AAP       218.99    14030586113                 NaN\n",
       "3     AAPL       148.26  2467102408347                 NaN\n",
       "4     ABBV       116.10   203309257965                 NaN\n",
       "..     ...          ...            ...                 ...\n",
       "500    YUM       134.14    40450771591                 NaN\n",
       "501    ZBH       147.80    31185039578                 NaN\n",
       "502   ZBRA       591.74    31786500723                 NaN\n",
       "503   ZION        58.25     9201756358                 NaN\n",
       "504    ZTS       199.11    97620435866                 NaN\n",
       "\n",
       "[505 rows x 4 columns]"
      ]
     },
     "execution_count": 10,
     "metadata": {},
     "output_type": "execute_result"
    }
   ],
   "source": [
    "df"
   ]
  },
  {
   "cell_type": "code",
   "execution_count": 30,
   "metadata": {},
   "outputs": [],
   "source": [
    "# batch execution can be done as well to reduce time required for data fetch\n",
    "def batch(li, n):\n",
    "    # get n sized batches from list\n",
    "    for i in range(0, len(li), n):\n",
    "        yield li[i:i+n]\n",
    "# fetch batch based get api request from iex cloud\n",
    "# endpoint + batch_req_url"
   ]
  },
  {
   "cell_type": "code",
   "execution_count": 14,
   "metadata": {},
   "outputs": [
    {
     "name": "stdin",
     "output_type": "stream",
     "text": [
      "Enter Portfolio size: 1000000\n"
     ]
    }
   ],
   "source": [
    "# equal weight pf\n",
    "pf = float(input('Enter Portfolio size:'))\n",
    "\n",
    "pos_size = pf/df.shape[0]\n",
    "\n",
    "df['no_of_shares_tobuy'] = df['stock_price'].apply(lambda x: math.floor(pos_size/x))"
   ]
  },
  {
   "cell_type": "code",
   "execution_count": 23,
   "metadata": {},
   "outputs": [
    {
     "name": "stdout",
     "output_type": "stream",
     "text": [
      "Residual Amount: 48685.820000000065\n"
     ]
    }
   ],
   "source": [
    "print('Residual Amount:', end=' ')\n",
    "print(1000000 - (df['stock_price'] * df['no_of_shares_tobuy']).sum())"
   ]
  },
  {
   "cell_type": "code",
   "execution_count": 142,
   "metadata": {},
   "outputs": [],
   "source": [
    "with pd.ExcelWriter('recommended_trades_eq_weight.xlsx') as writer:\n",
    "    df.to_excel(writer, sheet_name='Recommended Trades', index=False)\n"
   ]
  },
  {
   "cell_type": "markdown",
   "metadata": {},
   "source": [
    "## Quantitative Momentum Strategy"
   ]
  },
  {
   "cell_type": "markdown",
   "metadata": {},
   "source": [
    "### Momentum Equal Weight"
   ]
  },
  {
   "cell_type": "code",
   "execution_count": 26,
   "metadata": {},
   "outputs": [
    {
     "data": {
      "text/plain": [
       "{'companyName': 'Apple Inc',\n",
       " 'marketcap': 2458256168467,\n",
       " 'week52high': 155.24,\n",
       " 'week52low': 105.25,\n",
       " 'week52highSplitAdjustOnly': 152,\n",
       " 'week52lowSplitAdjustOnly': 104.9,\n",
       " 'week52change': 0.311877022977735,\n",
       " 'sharesOutstanding': 17141179577,\n",
       " 'float': 0,\n",
       " 'avg10Volume': 57219142,\n",
       " 'avg30Volume': 79888735,\n",
       " 'day200MovingAvg': 133.64,\n",
       " 'day50MovingAvg': 144.37,\n",
       " 'employees': 147362,\n",
       " 'ttmEPS': 5.2,\n",
       " 'ttmDividendRate': 0.865614422448981,\n",
       " 'dividendYield': 0.006059597812966607,\n",
       " 'nextDividendDate': '',\n",
       " 'exDividendDate': '2021-08-01',\n",
       " 'nextEarningsDate': '2021-10-14',\n",
       " 'peRatio': 29.129429653451155,\n",
       " 'beta': 1.5125505577898422,\n",
       " 'maxChangePercent': 55.24198673831531,\n",
       " 'year5ChangePercent': 4.87469174975177,\n",
       " 'year2ChangePercent': 1.9816054884549552,\n",
       " 'year1ChangePercent': 0.3556947749886598,\n",
       " 'ytdChangePercent': 0.10804061559982413,\n",
       " 'month6ChangePercent': 0.08292322627268472,\n",
       " 'month3ChangePercent': 0.16395803909783208,\n",
       " 'month1ChangePercent': 0.006776397000305219,\n",
       " 'day30ChangePercent': 0.01122284207286115,\n",
       " 'day5ChangePercent': -0.006098858229911463}"
      ]
     },
     "execution_count": 26,
     "metadata": {},
     "output_type": "execute_result"
    }
   ],
   "source": [
    "ticker = 'AAPL'\n",
    "api_url = endpoint + f'/stable/stock/{ticker}/stats?token={IEX_CLOUD_API_TOKEN}'\n",
    "\n",
    "data = requests.get(api_url).json()\n",
    "data"
   ]
  },
  {
   "cell_type": "code",
   "execution_count": 72,
   "metadata": {},
   "outputs": [],
   "source": [
    "df_momentum = pd.DataFrame(columns=columns_)\n",
    "\n",
    "for obj in batch(stocks, 100):\n",
    "    # create batch\n",
    "    sym_batch_li = obj['Ticker'].to_list()\n",
    "    sym_batch = ','.join(sym_batch_li)\n",
    "    \n",
    "    # fetch batch data\n",
    "    batch_endpoint = f'/stock/market/batch?symbols={sym_batch}&types=price,stats&token={IEX_CLOUD_API_TOKEN}'\n",
    "    api_url = endpoint + batch_endpoint\n",
    "    data = requests.get(api_url).json()\n",
    "    \n",
    "    # set data\n",
    "    for symbol in sym_batch_li:\n",
    "        df_momentum =\\\n",
    "        df_momentum.append(\n",
    "            pd.Series([\n",
    "                symbol,\n",
    "                data[symbol]['price'],\n",
    "                data[symbol]['stats']['year1ChangePercent'],\n",
    "                np.nan\n",
    "            ],\n",
    "            index=columns_\n",
    "            ),\n",
    "            ignore_index=True\n",
    "        )\n",
    "        \n",
    "df_momentum.columns = ['ticker', 'stock_price', 'year1ChangePercent', 'no_of_shares_tobuy']\n",
    "df_momentum = df_momentum.sort_values('year1ChangePercent', ascending=False).head(50)"
   ]
  },
  {
   "cell_type": "code",
   "execution_count": 88,
   "metadata": {},
   "outputs": [
    {
     "name": "stdin",
     "output_type": "stream",
     "text": [
      "Enter Portfolio size: 10000\n"
     ]
    },
    {
     "data": {
      "text/html": [
       "<div>\n",
       "<style scoped>\n",
       "    .dataframe tbody tr th:only-of-type {\n",
       "        vertical-align: middle;\n",
       "    }\n",
       "\n",
       "    .dataframe tbody tr th {\n",
       "        vertical-align: top;\n",
       "    }\n",
       "\n",
       "    .dataframe thead th {\n",
       "        text-align: right;\n",
       "    }\n",
       "</style>\n",
       "<table border=\"1\" class=\"dataframe\">\n",
       "  <thead>\n",
       "    <tr style=\"text-align: right;\">\n",
       "      <th></th>\n",
       "      <th>ticker</th>\n",
       "      <th>stock_price</th>\n",
       "      <th>year1ChangePercent</th>\n",
       "      <th>no_of_shares_tobuy</th>\n",
       "    </tr>\n",
       "  </thead>\n",
       "  <tbody>\n",
       "    <tr>\n",
       "      <th>111</th>\n",
       "      <td>COTY</td>\n",
       "      <td>8.68</td>\n",
       "      <td>1.06428</td>\n",
       "      <td>23</td>\n",
       "    </tr>\n",
       "    <tr>\n",
       "      <th>317</th>\n",
       "      <td>MRO</td>\n",
       "      <td>12.70</td>\n",
       "      <td>1.14722</td>\n",
       "      <td>15</td>\n",
       "    </tr>\n",
       "    <tr>\n",
       "      <th>174</th>\n",
       "      <td>F</td>\n",
       "      <td>14.55</td>\n",
       "      <td>0.942832</td>\n",
       "      <td>13</td>\n",
       "    </tr>\n",
       "    <tr>\n",
       "      <th>265</th>\n",
       "      <td>KIM</td>\n",
       "      <td>22.70</td>\n",
       "      <td>0.872977</td>\n",
       "      <td>8</td>\n",
       "    </tr>\n",
       "    <tr>\n",
       "      <th>452</th>\n",
       "      <td>UA</td>\n",
       "      <td>22.70</td>\n",
       "      <td>1.25145</td>\n",
       "      <td>8</td>\n",
       "    </tr>\n",
       "  </tbody>\n",
       "</table>\n",
       "</div>"
      ],
      "text/plain": [
       "    ticker  stock_price year1ChangePercent  no_of_shares_tobuy\n",
       "111   COTY         8.68            1.06428                  23\n",
       "317    MRO        12.70            1.14722                  15\n",
       "174      F        14.55           0.942832                  13\n",
       "265    KIM        22.70           0.872977                   8\n",
       "452     UA        22.70            1.25145                   8"
      ]
     },
     "execution_count": 88,
     "metadata": {},
     "output_type": "execute_result"
    }
   ],
   "source": [
    "# equal weight pf\n",
    "pf = float(input('Enter Portfolio size:'))\n",
    "\n",
    "pos_size = pf/df_momentum.shape[0]\n",
    "\n",
    "df_momentum['no_of_shares_tobuy'] = df_momentum['stock_price'].apply(lambda x: math.floor(pos_size/x))\n",
    "df_momentum.sort_values('no_of_shares_tobuy', ascending=False).head()"
   ]
  },
  {
   "cell_type": "markdown",
   "metadata": {},
   "source": [
    "### High Quality Momentum Equal Weight"
   ]
  },
  {
   "cell_type": "code",
   "execution_count": 92,
   "metadata": {},
   "outputs": [],
   "source": [
    "from scipy import stats"
   ]
  },
  {
   "cell_type": "code",
   "execution_count": null,
   "metadata": {},
   "outputs": [],
   "source": [
    "columns_ = [\n",
    "    'ticker',\n",
    "    'stock_price',\n",
    "    'no_of_shares_tobuy',\n",
    "    'year1ChangePercent',\n",
    "    'year1ChangePercent_percentile',\n",
    "    'month6ChangePercent',\n",
    "    'month6ChangePercent_percentile',\n",
    "    'month3ChangePercent',\n",
    "    'month3ChangePercent_percentile',\n",
    "    'month1ChangePercent',\n",
    "    'month1ChangePercent_percentile'\n",
    "]\n",
    "\n",
    "hq_momentum_df = pd.DataFrame(columns=columns_)\n",
    "\n",
    "for obj in batch(stocks, 100):\n",
    "    # create batch\n",
    "    sym_batch_li = obj['Ticker'].to_list()\n",
    "    sym_batch = ','.join(sym_batch_li)\n",
    "    \n",
    "    # fetch batch data\n",
    "    batch_endpoint = f'/stock/market/batch?symbols={sym_batch}&types=price,stats&token={IEX_CLOUD_API_TOKEN}'\n",
    "    api_url = endpoint + batch_endpoint\n",
    "    data = requests.get(api_url).json()\n",
    "    \n",
    "    # set data\n",
    "    for symbol in sym_batch_li:\n",
    "        hq_momentum_df =\\\n",
    "        hq_momentum_df.append(\n",
    "            pd.Series([\n",
    "                symbol,\n",
    "                data[symbol]['price'],\n",
    "                np.nan,\n",
    "                data[symbol]['stats']['year1ChangePercent'],\n",
    "                np.nan,\n",
    "                data[symbol]['stats']['month6ChangePercent'],\n",
    "                np.nan,\n",
    "                data[symbol]['stats']['month3ChangePercent'],\n",
    "                np.nan,\n",
    "                data[symbol]['stats']['month1ChangePercent'],\n",
    "                np.nan\n",
    "            ],\n",
    "            index=columns_\n",
    "            ),\n",
    "            ignore_index=True\n",
    "        )"
   ]
  },
  {
   "cell_type": "code",
   "execution_count": 102,
   "metadata": {},
   "outputs": [],
   "source": [
    "hq_momentum_df =\\\n",
    "hq_momentum_df.dropna(subset=['year1ChangePercent',\n",
    "                              'month6ChangePercent',\n",
    "                              'month3ChangePercent',\n",
    "                              'month1ChangePercent'])"
   ]
  },
  {
   "cell_type": "code",
   "execution_count": 126,
   "metadata": {},
   "outputs": [
    {
     "name": "stderr",
     "output_type": "stream",
     "text": [
      "<ipython-input-126-1e411c41bf4d>:1: SettingWithCopyWarning: \n",
      "A value is trying to be set on a copy of a slice from a DataFrame.\n",
      "Try using .loc[row_indexer,col_indexer] = value instead\n",
      "\n",
      "See the caveats in the documentation: https://pandas.pydata.org/pandas-docs/stable/user_guide/indexing.html#returning-a-view-versus-a-copy\n",
      "  hq_momentum_df['year1ChangePercent_percentile'] =\\\n",
      "<ipython-input-126-1e411c41bf4d>:4: SettingWithCopyWarning: \n",
      "A value is trying to be set on a copy of a slice from a DataFrame.\n",
      "Try using .loc[row_indexer,col_indexer] = value instead\n",
      "\n",
      "See the caveats in the documentation: https://pandas.pydata.org/pandas-docs/stable/user_guide/indexing.html#returning-a-view-versus-a-copy\n",
      "  hq_momentum_df['month6ChangePercent_percentile'] =\\\n",
      "<ipython-input-126-1e411c41bf4d>:7: SettingWithCopyWarning: \n",
      "A value is trying to be set on a copy of a slice from a DataFrame.\n",
      "Try using .loc[row_indexer,col_indexer] = value instead\n",
      "\n",
      "See the caveats in the documentation: https://pandas.pydata.org/pandas-docs/stable/user_guide/indexing.html#returning-a-view-versus-a-copy\n",
      "  hq_momentum_df['month3ChangePercent_percentile'] =\\\n",
      "<ipython-input-126-1e411c41bf4d>:10: SettingWithCopyWarning: \n",
      "A value is trying to be set on a copy of a slice from a DataFrame.\n",
      "Try using .loc[row_indexer,col_indexer] = value instead\n",
      "\n",
      "See the caveats in the documentation: https://pandas.pydata.org/pandas-docs/stable/user_guide/indexing.html#returning-a-view-versus-a-copy\n",
      "  hq_momentum_df['month1ChangePercent_percentile'] =\\\n"
     ]
    }
   ],
   "source": [
    "hq_momentum_df['year1ChangePercent_percentile'] =\\\n",
    "hq_momentum_df['year1ChangePercent'].apply(lambda x: stats.percentileofscore(hq_momentum_df['year1ChangePercent'], x))\n",
    "\n",
    "hq_momentum_df['month6ChangePercent_percentile'] =\\\n",
    "hq_momentum_df['month6ChangePercent'].apply(lambda x: stats.percentileofscore(hq_momentum_df['month6ChangePercent'], x))\n",
    "\n",
    "hq_momentum_df['month3ChangePercent_percentile'] =\\\n",
    "hq_momentum_df['month3ChangePercent'].apply(lambda x: stats.percentileofscore(hq_momentum_df['month3ChangePercent'], x))\n",
    "\n",
    "hq_momentum_df['month1ChangePercent_percentile'] =\\\n",
    "hq_momentum_df['month1ChangePercent'].apply(lambda x: stats.percentileofscore(hq_momentum_df['month1ChangePercent'], x))"
   ]
  },
  {
   "cell_type": "code",
   "execution_count": 127,
   "metadata": {},
   "outputs": [],
   "source": [
    "percentile_cols =\\\n",
    "['year1ChangePercent_percentile', 'month6ChangePercent_percentile', 'month3ChangePercent_percentile', 'month1ChangePercent_percentile']\n",
    "hq_momentum_df.loc[:,('percentile_mean')] = hq_momentum_df[percentile_cols].mean(axis=1)"
   ]
  },
  {
   "cell_type": "code",
   "execution_count": 129,
   "metadata": {},
   "outputs": [],
   "source": [
    "hq_momentum_df = hq_momentum_df.sort_values('percentile_mean', ascending=False).head(50)"
   ]
  },
  {
   "cell_type": "code",
   "execution_count": 131,
   "metadata": {},
   "outputs": [
    {
     "name": "stdin",
     "output_type": "stream",
     "text": [
      "Enter Portfolio size: 10000\n"
     ]
    },
    {
     "data": {
      "text/html": [
       "<div>\n",
       "<style scoped>\n",
       "    .dataframe tbody tr th:only-of-type {\n",
       "        vertical-align: middle;\n",
       "    }\n",
       "\n",
       "    .dataframe tbody tr th {\n",
       "        vertical-align: top;\n",
       "    }\n",
       "\n",
       "    .dataframe thead th {\n",
       "        text-align: right;\n",
       "    }\n",
       "</style>\n",
       "<table border=\"1\" class=\"dataframe\">\n",
       "  <thead>\n",
       "    <tr style=\"text-align: right;\">\n",
       "      <th></th>\n",
       "      <th>ticker</th>\n",
       "      <th>stock_price</th>\n",
       "      <th>no_of_shares_tobuy</th>\n",
       "      <th>year1ChangePercent</th>\n",
       "      <th>year1ChangePercent_percentile</th>\n",
       "      <th>month6ChangePercent</th>\n",
       "      <th>month6ChangePercent_percentile</th>\n",
       "      <th>month3ChangePercent</th>\n",
       "      <th>month3ChangePercent_percentile</th>\n",
       "      <th>month1ChangePercent</th>\n",
       "      <th>month1ChangePercent_percentile</th>\n",
       "      <th>percentile_mean</th>\n",
       "    </tr>\n",
       "  </thead>\n",
       "  <tbody>\n",
       "    <tr>\n",
       "      <th>452</th>\n",
       "      <td>UA</td>\n",
       "      <td>22.20</td>\n",
       "      <td>9</td>\n",
       "      <td>1.27648</td>\n",
       "      <td>96.806387</td>\n",
       "      <td>0.142016</td>\n",
       "      <td>46.107784</td>\n",
       "      <td>0.143718</td>\n",
       "      <td>81.836327</td>\n",
       "      <td>0.165453</td>\n",
       "      <td>97.804391</td>\n",
       "      <td>80.638723</td>\n",
       "    </tr>\n",
       "    <tr>\n",
       "      <th>227</th>\n",
       "      <td>HRB</td>\n",
       "      <td>26.67</td>\n",
       "      <td>7</td>\n",
       "      <td>0.779282</td>\n",
       "      <td>85.429142</td>\n",
       "      <td>0.362501</td>\n",
       "      <td>89.820359</td>\n",
       "      <td>0.0975602</td>\n",
       "      <td>71.457086</td>\n",
       "      <td>0.0659568</td>\n",
       "      <td>77.245509</td>\n",
       "      <td>80.988024</td>\n",
       "    </tr>\n",
       "    <tr>\n",
       "      <th>245</th>\n",
       "      <td>IPG</td>\n",
       "      <td>38.20</td>\n",
       "      <td>5</td>\n",
       "      <td>1.04423</td>\n",
       "      <td>93.812375</td>\n",
       "      <td>0.56927</td>\n",
       "      <td>98.802395</td>\n",
       "      <td>0.169251</td>\n",
       "      <td>86.027944</td>\n",
       "      <td>0.136487</td>\n",
       "      <td>96.007984</td>\n",
       "      <td>93.662675</td>\n",
       "    </tr>\n",
       "    <tr>\n",
       "      <th>249</th>\n",
       "      <td>IRM</td>\n",
       "      <td>47.90</td>\n",
       "      <td>4</td>\n",
       "      <td>0.706739</td>\n",
       "      <td>83.033932</td>\n",
       "      <td>0.457068</td>\n",
       "      <td>96.207585</td>\n",
       "      <td>0.130989</td>\n",
       "      <td>77.844311</td>\n",
       "      <td>0.0692737</td>\n",
       "      <td>79.241517</td>\n",
       "      <td>84.081836</td>\n",
       "    </tr>\n",
       "    <tr>\n",
       "      <th>149</th>\n",
       "      <td>DXC</td>\n",
       "      <td>42.17</td>\n",
       "      <td>4</td>\n",
       "      <td>1.10598</td>\n",
       "      <td>95.409182</td>\n",
       "      <td>0.630497</td>\n",
       "      <td>99.201597</td>\n",
       "      <td>0.221752</td>\n",
       "      <td>93.812375</td>\n",
       "      <td>0.0397945</td>\n",
       "      <td>61.477046</td>\n",
       "      <td>87.475050</td>\n",
       "    </tr>\n",
       "  </tbody>\n",
       "</table>\n",
       "</div>"
      ],
      "text/plain": [
       "    ticker  stock_price  no_of_shares_tobuy year1ChangePercent  \\\n",
       "452     UA        22.20                   9            1.27648   \n",
       "227    HRB        26.67                   7           0.779282   \n",
       "245    IPG        38.20                   5            1.04423   \n",
       "249    IRM        47.90                   4           0.706739   \n",
       "149    DXC        42.17                   4            1.10598   \n",
       "\n",
       "     year1ChangePercent_percentile month6ChangePercent  \\\n",
       "452                      96.806387            0.142016   \n",
       "227                      85.429142            0.362501   \n",
       "245                      93.812375             0.56927   \n",
       "249                      83.033932            0.457068   \n",
       "149                      95.409182            0.630497   \n",
       "\n",
       "     month6ChangePercent_percentile month3ChangePercent  \\\n",
       "452                       46.107784            0.143718   \n",
       "227                       89.820359           0.0975602   \n",
       "245                       98.802395            0.169251   \n",
       "249                       96.207585            0.130989   \n",
       "149                       99.201597            0.221752   \n",
       "\n",
       "     month3ChangePercent_percentile month1ChangePercent  \\\n",
       "452                       81.836327            0.165453   \n",
       "227                       71.457086           0.0659568   \n",
       "245                       86.027944            0.136487   \n",
       "249                       77.844311           0.0692737   \n",
       "149                       93.812375           0.0397945   \n",
       "\n",
       "     month1ChangePercent_percentile  percentile_mean  \n",
       "452                       97.804391        80.638723  \n",
       "227                       77.245509        80.988024  \n",
       "245                       96.007984        93.662675  \n",
       "249                       79.241517        84.081836  \n",
       "149                       61.477046        87.475050  "
      ]
     },
     "execution_count": 131,
     "metadata": {},
     "output_type": "execute_result"
    }
   ],
   "source": [
    "# equal weight pf\n",
    "pf = float(input('Enter Portfolio size:'))\n",
    "\n",
    "pos_size = pf/hq_momentum_df.shape[0]\n",
    "\n",
    "hq_momentum_df['no_of_shares_tobuy'] = hq_momentum_df['stock_price'].apply(lambda x: math.floor(pos_size/x))\n",
    "hq_momentum_df.sort_values('no_of_shares_tobuy', ascending=False).head()"
   ]
  },
  {
   "cell_type": "code",
   "execution_count": 134,
   "metadata": {},
   "outputs": [
    {
     "name": "stdout",
     "output_type": "stream",
     "text": [
      "Residual Amount: 5090.319999999999\n"
     ]
    }
   ],
   "source": [
    "print('Residual Amount:', end=' ')\n",
    "print(10000 - (hq_momentum_df['stock_price'] * hq_momentum_df['no_of_shares_tobuy']).sum())"
   ]
  },
  {
   "cell_type": "code",
   "execution_count": 143,
   "metadata": {},
   "outputs": [],
   "source": [
    "with pd.ExcelWriter('recommended_trades_hq_eq_weight.xlsx') as writer:\n",
    "    hq_momentum_df.to_excel(writer, sheet_name='High Quality Stocks', index=False)\n"
   ]
  },
  {
   "cell_type": "markdown",
   "metadata": {},
   "source": [
    "## Quantitative Value Strategy"
   ]
  },
  {
   "cell_type": "code",
   "execution_count": null,
   "metadata": {},
   "outputs": [],
   "source": []
  }
 ],
 "metadata": {
  "kernelspec": {
   "display_name": "Python 3",
   "language": "python",
   "name": "python3"
  },
  "language_info": {
   "codemirror_mode": {
    "name": "ipython",
    "version": 3
   },
   "file_extension": ".py",
   "mimetype": "text/x-python",
   "name": "python",
   "nbconvert_exporter": "python",
   "pygments_lexer": "ipython3",
   "version": "3.8.5"
  }
 },
 "nbformat": 4,
 "nbformat_minor": 4
}
